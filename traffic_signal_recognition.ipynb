{
 "cells": [
  {
   "cell_type": "markdown",
   "id": "c226ccb9",
   "metadata": {},
   "source": [
    "# Installing required libraries"
   ]
  },
  {
   "cell_type": "code",
   "execution_count": 2,
   "id": "d46f4f1a",
   "metadata": {},
   "outputs": [
    {
     "name": "stdout",
     "output_type": "stream",
     "text": [
      "Requirement already satisfied: pandas in c:\\users\\inspiron-3000\\.conda\\envs\\tf\\lib\\site-packages (1.3.2)\n",
      "Requirement already satisfied: numpy>=1.17.3 in c:\\users\\inspiron-3000\\.conda\\envs\\tf\\lib\\site-packages (from pandas) (1.20.3)\n",
      "Requirement already satisfied: python-dateutil>=2.7.3 in c:\\users\\inspiron-3000\\.conda\\envs\\tf\\lib\\site-packages (from pandas) (2.8.2)\n",
      "Requirement already satisfied: pytz>=2017.3 in c:\\users\\inspiron-3000\\.conda\\envs\\tf\\lib\\site-packages (from pandas) (2021.3)\n",
      "Requirement already satisfied: six>=1.5 in c:\\users\\inspiron-3000\\.conda\\envs\\tf\\lib\\site-packages (from python-dateutil>=2.7.3->pandas) (1.16.0)\n"
     ]
    }
   ],
   "source": [
    "!pip install pandas"
   ]
  },
  {
   "cell_type": "code",
   "execution_count": 2,
   "id": "102740e0",
   "metadata": {},
   "outputs": [
    {
     "name": "stdout",
     "output_type": "stream",
     "text": [
      "Requirement already satisfied: matplotlib in c:\\users\\inspiron-3000\\.conda\\envs\\tf\\lib\\site-packages (3.4.3)\n",
      "Requirement already satisfied: pillow>=6.2.0 in c:\\users\\inspiron-3000\\.conda\\envs\\tf\\lib\\site-packages (from matplotlib) (8.3.2)\n",
      "Requirement already satisfied: pyparsing>=2.2.1 in c:\\users\\inspiron-3000\\.conda\\envs\\tf\\lib\\site-packages (from matplotlib) (2.4.7)\n",
      "Requirement already satisfied: kiwisolver>=1.0.1 in c:\\users\\inspiron-3000\\.conda\\envs\\tf\\lib\\site-packages (from matplotlib) (1.3.2)\n",
      "Requirement already satisfied: numpy>=1.16 in c:\\users\\inspiron-3000\\.conda\\envs\\tf\\lib\\site-packages (from matplotlib) (1.20.3)\n",
      "Requirement already satisfied: cycler>=0.10 in c:\\users\\inspiron-3000\\.conda\\envs\\tf\\lib\\site-packages (from matplotlib) (0.10.0)\n",
      "Requirement already satisfied: python-dateutil>=2.7 in c:\\users\\inspiron-3000\\.conda\\envs\\tf\\lib\\site-packages (from matplotlib) (2.8.2)\n",
      "Requirement already satisfied: six in c:\\users\\inspiron-3000\\.conda\\envs\\tf\\lib\\site-packages (from cycler>=0.10->matplotlib) (1.16.0)\n"
     ]
    }
   ],
   "source": [
    "!pip install matplotlib"
   ]
  },
  {
   "cell_type": "code",
   "execution_count": 3,
   "id": "044fcdcf",
   "metadata": {},
   "outputs": [
    {
     "name": "stdout",
     "output_type": "stream",
     "text": [
      "Requirement already satisfied: opencv-python in c:\\users\\inspiron-3000\\.conda\\envs\\tf\\lib\\site-packages (4.5.3.56)\n",
      "Requirement already satisfied: numpy>=1.17.3 in c:\\users\\inspiron-3000\\.conda\\envs\\tf\\lib\\site-packages (from opencv-python) (1.20.3)\n"
     ]
    }
   ],
   "source": [
    "!pip install opencv-python"
   ]
  },
  {
   "cell_type": "code",
   "execution_count": 4,
   "id": "93455089",
   "metadata": {},
   "outputs": [
    {
     "name": "stdout",
     "output_type": "stream",
     "text": [
      "Requirement already satisfied: sklearn in c:\\users\\inspiron-3000\\.conda\\envs\\tf\\lib\\site-packages (0.0)\n",
      "Requirement already satisfied: scikit-learn in c:\\users\\inspiron-3000\\.conda\\envs\\tf\\lib\\site-packages (from sklearn) (0.24.2)\n",
      "Requirement already satisfied: threadpoolctl>=2.0.0 in c:\\users\\inspiron-3000\\.conda\\envs\\tf\\lib\\site-packages (from scikit-learn->sklearn) (2.2.0)\n",
      "Requirement already satisfied: joblib>=0.11 in c:\\users\\inspiron-3000\\.conda\\envs\\tf\\lib\\site-packages (from scikit-learn->sklearn) (1.0.1)\n",
      "Requirement already satisfied: scipy>=0.19.1 in c:\\users\\inspiron-3000\\.conda\\envs\\tf\\lib\\site-packages (from scikit-learn->sklearn) (1.6.2)\n",
      "Requirement already satisfied: numpy>=1.13.3 in c:\\users\\inspiron-3000\\.conda\\envs\\tf\\lib\\site-packages (from scikit-learn->sklearn) (1.20.3)\n"
     ]
    }
   ],
   "source": [
    "!pip install sklearn"
   ]
  },
  {
   "cell_type": "markdown",
   "id": "90683797",
   "metadata": {},
   "source": [
    "# Import required libraries"
   ]
  },
  {
   "cell_type": "code",
   "execution_count": 3,
   "id": "f8f8fcbd",
   "metadata": {},
   "outputs": [],
   "source": [
    "import numpy as np \n",
    "import pandas as pd \n",
    "import matplotlib.pyplot as plt\n",
    "import cv2\n",
    "import tensorflow as tf   #tensorflow is a library which helps us to train and develop ML Models\n",
    "from PIL import Image\n",
    "import os\n",
    "from sklearn.model_selection import train_test_split\n",
    "from keras.utils import to_categorical\n",
    "from keras.models import Sequential, load_model\n",
    "from keras.layers import Conv2D, MaxPool2D, Dense, Flatten, Dropout"
   ]
  },
  {
   "cell_type": "markdown",
   "id": "32813d0f",
   "metadata": {},
   "source": [
    "# Store data, labels in the list"
   ]
  },
  {
   "cell_type": "code",
   "execution_count": 4,
   "id": "a0e6816e",
   "metadata": {},
   "outputs": [],
   "source": [
    "data = []   \n",
    "labels = []    #folder name -> 0 to 42\n",
    "classes = 43\n",
    "current_path = os.getcwd()"
   ]
  },
  {
   "cell_type": "code",
   "execution_count": 5,
   "id": "087db918",
   "metadata": {
    "scrolled": true
   },
   "outputs": [
    {
     "data": {
      "text/plain": [
       "'C:\\\\Users\\\\Inspiron-3000\\\\Traffic sign classification'"
      ]
     },
     "execution_count": 5,
     "metadata": {},
     "output_type": "execute_result"
    }
   ],
   "source": [
    "current_path"
   ]
  },
  {
   "cell_type": "markdown",
   "id": "723b0d2e",
   "metadata": {},
   "source": [
    "# Pre-process the images"
   ]
  },
  {
   "cell_type": "code",
   "execution_count": 6,
   "id": "f59d6a8d",
   "metadata": {},
   "outputs": [],
   "source": [
    "for i in range(classes):     \n",
    "    path = os.path.join(current_path,'train',str(i))     \n",
    "    images = os.listdir(path)\n",
    "    for a in images:\n",
    "        try:             \n",
    "            image = Image.open(path +'\\\\'+ a)             \n",
    "            image = image.resize((30,30))   #(30, 30) is best for neural network feeding\n",
    "            \n",
    "            # Resizing all images into 30*30                                                 \n",
    "            image = np.array(image)             \n",
    "            data.append(image)      # in this step we have appended image into data list       \n",
    "            labels.append(i)   # appended the i'th value \n",
    "        except Exception as e:\n",
    "            print(e)"
   ]
  },
  {
   "cell_type": "markdown",
   "id": "9baa09b9",
   "metadata": {},
   "source": [
    "# Convert list into NumPy arrays"
   ]
  },
  {
   "cell_type": "code",
   "execution_count": 7,
   "id": "dd4a310a",
   "metadata": {},
   "outputs": [],
   "source": [
    "data = np.array(data) \n",
    "labels = np.array(labels)"
   ]
  },
  {
   "cell_type": "code",
   "execution_count": 8,
   "id": "a37e12be",
   "metadata": {
    "scrolled": true
   },
   "outputs": [
    {
     "name": "stdout",
     "output_type": "stream",
     "text": [
      "(39209, 30, 30, 3) (39209,)\n"
     ]
    }
   ],
   "source": [
    "print(data.shape, labels.shape) "
   ]
  },
  {
   "cell_type": "markdown",
   "id": "abea00c2",
   "metadata": {},
   "source": [
    "# Save labels and data for future use"
   ]
  },
  {
   "cell_type": "code",
   "execution_count": 9,
   "id": "66fdb54a",
   "metadata": {},
   "outputs": [],
   "source": [
    "# before saving data and labels we create folder of \"training\" name\n",
    "\n",
    "np.save('./training/data', data)\n",
    "np.save('./training/target', labels)"
   ]
  },
  {
   "cell_type": "markdown",
   "id": "225b7738",
   "metadata": {},
   "source": [
    "# Load data and labels"
   ]
  },
  {
   "cell_type": "code",
   "execution_count": 10,
   "id": "38155045",
   "metadata": {},
   "outputs": [],
   "source": [
    "data = np.load('./training/data.npy')\n",
    "labels = np.load('./training/target.npy')"
   ]
  },
  {
   "cell_type": "code",
   "execution_count": 11,
   "id": "f859d6bf",
   "metadata": {},
   "outputs": [
    {
     "name": "stdout",
     "output_type": "stream",
     "text": [
      "(39209, 30, 30, 3) (39209,)\n"
     ]
    }
   ],
   "source": [
    "print(data.shape, labels.shape)"
   ]
  },
  {
   "cell_type": "markdown",
   "id": "1e88fb3b",
   "metadata": {},
   "source": [
    "# Split Train and Test"
   ]
  },
  {
   "cell_type": "code",
   "execution_count": 12,
   "id": "c2b55fa8",
   "metadata": {},
   "outputs": [],
   "source": [
    "X_train, X_test, y_train, y_test = train_test_split(data, labels, test_size=0.2, random_state=0)"
   ]
  },
  {
   "cell_type": "code",
   "execution_count": 13,
   "id": "ded796a9",
   "metadata": {},
   "outputs": [
    {
     "name": "stdout",
     "output_type": "stream",
     "text": [
      "(31367, 30, 30, 3) (7842, 30, 30, 3) (31367,) (7842,)\n"
     ]
    }
   ],
   "source": [
    "print(X_train.shape, X_test.shape, y_train.shape, y_test.shape) "
   ]
  },
  {
   "cell_type": "markdown",
   "id": "e5a744b7",
   "metadata": {},
   "source": [
    "# convert labels to one-hot encoding"
   ]
  },
  {
   "cell_type": "code",
   "execution_count": 14,
   "id": "bebc76ed",
   "metadata": {},
   "outputs": [],
   "source": [
    "y_train = to_categorical(y_train,43) \n",
    "y_test = to_categorical(y_test,43)"
   ]
  },
  {
   "cell_type": "markdown",
   "id": "ad5ffb23",
   "metadata": {},
   "source": [
    "# Now its Time to build the model\n",
    "## Model 1 - 4Conv2D layers"
   ]
  },
  {
   "cell_type": "code",
   "execution_count": 17,
   "id": "cac311ee",
   "metadata": {},
   "outputs": [],
   "source": [
    "model = Sequential() \n",
    "model.add(Conv2D(filters=32, kernel_size=(5,5), activation='relu', input_shape=X_train.shape[1:])) \n",
    "model.add(Conv2D(filters=32, kernel_size=(5,5), activation='relu')) \n",
    "model.add(MaxPool2D(pool_size=(2,2))) \n",
    "model.add(Dropout(rate=0.25))\n",
    "\n",
    "model.add(Conv2D(filters=64, kernel_size=(3,3), activation='relu')) \n",
    "model.add(Conv2D(filters=64, kernel_size=(3,3), activation='relu')) \n",
    "model.add(MaxPool2D(pool_size=(2,2))) \n",
    "model.add(Dropout(rate=0.25)) \n",
    "\n",
    "model.add(Flatten()) \n",
    "model.add(Dense(256, activation='relu')) \n",
    "model.add(Dropout(rate=0.5))\n",
    "# We have 43 classes that's why we have defined 43in the dense \n",
    "model.add(Dense(43, activation='softmax'))"
   ]
  },
  {
   "cell_type": "code",
   "execution_count": 18,
   "id": "2eae2076",
   "metadata": {},
   "outputs": [],
   "source": [
    "#Compilation of the model \n",
    "model.compile(loss='categorical_crossentropy', optimizer='adam', metrics=['accuracy']) "
   ]
  },
  {
   "cell_type": "code",
   "execution_count": 19,
   "id": "6d36b752",
   "metadata": {
    "scrolled": false
   },
   "outputs": [
    {
     "name": "stdout",
     "output_type": "stream",
     "text": [
      "Epoch 1/20\n",
      "981/981 [==============================] - 196s 200ms/step - loss: 2.1088 - accuracy: 0.4659 - val_loss: 0.6638 - val_accuracy: 0.8493\n",
      "Epoch 2/20\n",
      "981/981 [==============================] - 213s 217ms/step - loss: 0.7588 - accuracy: 0.7754 - val_loss: 0.2873 - val_accuracy: 0.9183\n",
      "Epoch 3/20\n",
      "981/981 [==============================] - 205s 209ms/step - loss: 0.5216 - accuracy: 0.8435 - val_loss: 0.2299 - val_accuracy: 0.9464\n",
      "Epoch 4/20\n",
      "981/981 [==============================] - 197s 201ms/step - loss: 0.4130 - accuracy: 0.8775 - val_loss: 0.1323 - val_accuracy: 0.9663\n",
      "Epoch 5/20\n",
      "981/981 [==============================] - 186s 189ms/step - loss: 0.3614 - accuracy: 0.8923 - val_loss: 0.1120 - val_accuracy: 0.9638\n",
      "Epoch 6/20\n",
      "981/981 [==============================] - 196s 199ms/step - loss: 0.3111 - accuracy: 0.9105 - val_loss: 0.1574 - val_accuracy: 0.9555\n",
      "Epoch 7/20\n",
      "981/981 [==============================] - 212s 216ms/step - loss: 0.2959 - accuracy: 0.9140 - val_loss: 0.0879 - val_accuracy: 0.9759\n",
      "Epoch 8/20\n",
      "981/981 [==============================] - 184s 187ms/step - loss: 0.2786 - accuracy: 0.9200 - val_loss: 0.0899 - val_accuracy: 0.9748\n",
      "Epoch 9/20\n",
      "981/981 [==============================] - 196s 199ms/step - loss: 0.2659 - accuracy: 0.9270 - val_loss: 0.0909 - val_accuracy: 0.9765\n",
      "Epoch 10/20\n",
      "981/981 [==============================] - 135s 138ms/step - loss: 0.2695 - accuracy: 0.9258 - val_loss: 0.0994 - val_accuracy: 0.9705\n",
      "Epoch 11/20\n",
      "981/981 [==============================] - 115s 117ms/step - loss: 0.2767 - accuracy: 0.9262 - val_loss: 0.0635 - val_accuracy: 0.9804\n",
      "Epoch 12/20\n",
      "981/981 [==============================] - 117s 120ms/step - loss: 0.2468 - accuracy: 0.9302 - val_loss: 0.0591 - val_accuracy: 0.9823\n",
      "Epoch 13/20\n",
      "981/981 [==============================] - 117s 119ms/step - loss: 0.2483 - accuracy: 0.9317 - val_loss: 0.1087 - val_accuracy: 0.9699\n",
      "Epoch 14/20\n",
      "981/981 [==============================] - 116s 118ms/step - loss: 0.2480 - accuracy: 0.9327 - val_loss: 0.0851 - val_accuracy: 0.9746\n",
      "Epoch 15/20\n",
      "981/981 [==============================] - 117s 120ms/step - loss: 0.2357 - accuracy: 0.9372 - val_loss: 0.0694 - val_accuracy: 0.9793\n",
      "Epoch 16/20\n",
      "981/981 [==============================] - 115s 117ms/step - loss: 0.2588 - accuracy: 0.9334 - val_loss: 0.1015 - val_accuracy: 0.9695\n",
      "Epoch 17/20\n",
      "981/981 [==============================] - 115s 117ms/step - loss: 0.2361 - accuracy: 0.9361 - val_loss: 0.0767 - val_accuracy: 0.9801\n",
      "Epoch 18/20\n",
      "981/981 [==============================] - 113s 115ms/step - loss: 0.2657 - accuracy: 0.9314 - val_loss: 0.0977 - val_accuracy: 0.9718\n",
      "Epoch 19/20\n",
      "981/981 [==============================] - 114s 116ms/step - loss: 0.2234 - accuracy: 0.9409 - val_loss: 0.0635 - val_accuracy: 0.9816\n",
      "Epoch 20/20\n",
      "981/981 [==============================] - 114s 116ms/step - loss: 0.2603 - accuracy: 0.9335 - val_loss: 0.0706 - val_accuracy: 0.9802\n"
     ]
    }
   ],
   "source": [
    "epochs = 20 \n",
    "history = model.fit(X_train, y_train, batch_size=32, epochs=epochs, validation_data=(X_test, y_test))"
   ]
  },
  {
   "cell_type": "markdown",
   "id": "f52a9fb5",
   "metadata": {},
   "source": [
    "# model 2 - 2 Conv2D layers"
   ]
  },
  {
   "cell_type": "code",
   "execution_count": 23,
   "id": "3a511050",
   "metadata": {},
   "outputs": [],
   "source": [
    "model2 = Sequential()\n",
    "\n",
    "model2.add(Conv2D(filters=32, kernel_size=(5,5), activation='relu', input_shape=X_train.shape[1:])) \n",
    "model2.add(Conv2D(filters=32, kernel_size=(5,5), activation='relu')) \n",
    "model2.add(MaxPool2D(pool_size=(2,2))) \n",
    "model2.add(Dropout(rate=0.25))\n",
    "\n",
    "# model.add(Conv2D(filters=64, kernel_size=(3,3), activation='relu')) \n",
    "# model.add(Conv2D(filters=64, kernel_size=(3,3), activation='relu')) \n",
    "# model.add(MaxPool2D(pool_size=(2,2))) \n",
    "# model.add(Dropout(rate=0.25)) \n",
    "\n",
    "model2.add(Flatten()) \n",
    "model2.add(Dense(256, activation='relu')) \n",
    "model2.add(Dropout(rate=0.5))\n",
    "\n",
    "# We have 43 classes that's why we have defined 43in the dense \n",
    "model2.add(Dense(43, activation='softmax'))"
   ]
  },
  {
   "cell_type": "code",
   "execution_count": 24,
   "id": "a7adbe0c",
   "metadata": {},
   "outputs": [],
   "source": [
    "model2.compile(loss='categorical_crossentropy', optimizer='adam', metrics=['accuracy']) "
   ]
  },
  {
   "cell_type": "code",
   "execution_count": 25,
   "id": "7f9cfbe5",
   "metadata": {
    "scrolled": false
   },
   "outputs": [
    {
     "name": "stdout",
     "output_type": "stream",
     "text": [
      "Epoch 1/20\n",
      "981/981 [==============================] - 161s 164ms/step - loss: 3.8478 - accuracy: 0.0567 - val_loss: 3.4845 - val_accuracy: 0.0592\n",
      "Epoch 2/20\n",
      "981/981 [==============================] - 771s 786ms/step - loss: 3.4952 - accuracy: 0.0555 - val_loss: 3.4916 - val_accuracy: 0.0575\n",
      "Epoch 3/20\n",
      "981/981 [==============================] - 142s 145ms/step - loss: 3.4936 - accuracy: 0.0545 - val_loss: 3.4911 - val_accuracy: 0.0575\n",
      "Epoch 4/20\n",
      "981/981 [==============================] - 112s 114ms/step - loss: 3.4930 - accuracy: 0.0547 - val_loss: 3.4914 - val_accuracy: 0.0560\n",
      "Epoch 5/20\n",
      "981/981 [==============================] - 122s 124ms/step - loss: 3.4907 - accuracy: 0.0582 - val_loss: 3.4901 - val_accuracy: 0.0560\n",
      "Epoch 6/20\n",
      "981/981 [==============================] - 136s 138ms/step - loss: 3.4905 - accuracy: 0.0563 - val_loss: 3.4911 - val_accuracy: 0.0522\n",
      "Epoch 7/20\n",
      "981/981 [==============================] - 117s 120ms/step - loss: 3.4907 - accuracy: 0.0555 - val_loss: 3.4909 - val_accuracy: 0.0560\n",
      "Epoch 8/20\n",
      "981/981 [==============================] - 110s 112ms/step - loss: 3.4892 - accuracy: 0.0550 - val_loss: 3.4907 - val_accuracy: 0.0560\n",
      "Epoch 9/20\n",
      "981/981 [==============================] - 103s 105ms/step - loss: 3.4900 - accuracy: 0.0556 - val_loss: 3.4908 - val_accuracy: 0.0560\n",
      "Epoch 10/20\n",
      "981/981 [==============================] - 110s 113ms/step - loss: 3.4899 - accuracy: 0.0562 - val_loss: 3.4905 - val_accuracy: 0.0575\n",
      "Epoch 11/20\n",
      "981/981 [==============================] - 117s 119ms/step - loss: 3.4884 - accuracy: 0.0574 - val_loss: 3.4904 - val_accuracy: 0.0560\n",
      "Epoch 12/20\n",
      "981/981 [==============================] - 922s 940ms/step - loss: 3.4890 - accuracy: 0.0539 - val_loss: 3.4902 - val_accuracy: 0.0560\n",
      "Epoch 13/20\n",
      "981/981 [==============================] - 135s 137ms/step - loss: 3.4887 - accuracy: 0.0539 - val_loss: 3.4922 - val_accuracy: 0.0575\n",
      "Epoch 14/20\n",
      "981/981 [==============================] - 101s 103ms/step - loss: 3.4885 - accuracy: 0.0557 - val_loss: 3.4907 - val_accuracy: 0.0560\n",
      "Epoch 15/20\n",
      "981/981 [==============================] - 100s 102ms/step - loss: 3.4885 - accuracy: 0.0552 - val_loss: 3.4901 - val_accuracy: 0.0560\n",
      "Epoch 16/20\n",
      "981/981 [==============================] - 107s 109ms/step - loss: 3.4881 - accuracy: 0.0546 - val_loss: 3.4910 - val_accuracy: 0.0560\n",
      "Epoch 17/20\n",
      "981/981 [==============================] - 100s 102ms/step - loss: 3.4878 - accuracy: 0.0567 - val_loss: 3.4901 - val_accuracy: 0.0575\n",
      "Epoch 18/20\n",
      "981/981 [==============================] - 426s 435ms/step - loss: 3.4883 - accuracy: 0.0571 - val_loss: 3.4911 - val_accuracy: 0.0575\n",
      "Epoch 19/20\n",
      "981/981 [==============================] - 144s 147ms/step - loss: 3.4874 - accuracy: 0.0553 - val_loss: 3.4907 - val_accuracy: 0.0560\n",
      "Epoch 20/20\n",
      "981/981 [==============================] - 156s 159ms/step - loss: 3.4879 - accuracy: 0.0576 - val_loss: 3.4897 - val_accuracy: 0.0575\n"
     ]
    }
   ],
   "source": [
    "epochs = 20 \n",
    "history = model2.fit(X_train, y_train, batch_size=32, epochs=epochs, validation_data=(X_test, y_test))"
   ]
  },
  {
   "cell_type": "markdown",
   "id": "6cf3c320",
   "metadata": {},
   "source": [
    "## Model 3 - 3 Conv2D layers"
   ]
  },
  {
   "cell_type": "code",
   "execution_count": 15,
   "id": "4917f5d0",
   "metadata": {},
   "outputs": [],
   "source": [
    "# Make model trunk\n",
    "model3 = Sequential()\n",
    "\n",
    "# Add first conv block\n",
    "model3.add(Conv2D(filters=32, kernel_size=(3,3), activation='relu', input_shape=X_train.shape[1:]))\n",
    "model3.add(Conv2D(filters=32, kernel_size=(3,3), activation='relu'))   #reLu -> to bring non linearity in the model\n",
    "model3.add(MaxPool2D(pool_size=(2,2)))                                 #reLu -> converts -ve values to 0 and speeds up training  \n",
    "model3.add(Dropout(rate=0.25))\n",
    "\n",
    "#conv + pooling gives locationinvarient feature detection\n",
    "\n",
    "# Add second conv block\n",
    "model3.add(Conv2D(filters=64, kernel_size=(3,3), activation='relu')) \n",
    "# model2.add(Conv2D(filters=64, kernel_size=(3,3), activation='relu')) \n",
    "model3.add(MaxPool2D(pool_size=(2,2)))  #maxpool2D -> reduces the size of the image it creates new feature array everytime \n",
    "# model2.add(Dropout(rate=0.25)) \n",
    "\n",
    "# Add FC layers\n",
    "model3.add(Flatten())  #converts 2d to 1d\n",
    "model3.add(Dense(256, activation='relu')) \n",
    "model3.add(Dropout(rate=0.5))\n",
    "\n",
    "# We have 43 classes that's why we have defined 43in the dense \n",
    "model3.add(Dense(43, activation='softmax'))"
   ]
  },
  {
   "cell_type": "code",
   "execution_count": 16,
   "id": "1fdc39d0",
   "metadata": {},
   "outputs": [],
   "source": [
    "# Compile model\n",
    "model3.compile(loss='categorical_crossentropy', optimizer='adam', metrics=['accuracy'])"
   ]
  },
  {
   "cell_type": "code",
   "execution_count": 17,
   "id": "b8645e30",
   "metadata": {
    "scrolled": false
   },
   "outputs": [
    {
     "name": "stdout",
     "output_type": "stream",
     "text": [
      "Epoch 1/20\n",
      "981/981 [==============================] - 87s 89ms/step - loss: 2.4468 - accuracy: 0.4239 - val_loss: 0.6653 - val_accuracy: 0.8275\n",
      "Epoch 2/20\n",
      "981/981 [==============================] - 91s 93ms/step - loss: 0.8010 - accuracy: 0.7501 - val_loss: 0.2864 - val_accuracy: 0.9317\n",
      "Epoch 3/20\n",
      "981/981 [==============================] - 90s 92ms/step - loss: 0.5060 - accuracy: 0.8444 - val_loss: 0.1491 - val_accuracy: 0.9644\n",
      "Epoch 4/20\n",
      "981/981 [==============================] - 89s 91ms/step - loss: 0.3567 - accuracy: 0.8933 - val_loss: 0.1060 - val_accuracy: 0.9758\n",
      "Epoch 5/20\n",
      "981/981 [==============================] - 89s 91ms/step - loss: 0.2778 - accuracy: 0.9198 - val_loss: 0.0841 - val_accuracy: 0.9756\n",
      "Epoch 6/20\n",
      "981/981 [==============================] - 90s 92ms/step - loss: 0.2244 - accuracy: 0.9326 - val_loss: 0.0633 - val_accuracy: 0.9814\n",
      "Epoch 7/20\n",
      "981/981 [==============================] - 91s 93ms/step - loss: 0.2045 - accuracy: 0.9426 - val_loss: 0.0611 - val_accuracy: 0.9832\n",
      "Epoch 8/20\n",
      "981/981 [==============================] - 91s 93ms/step - loss: 0.1978 - accuracy: 0.9444 - val_loss: 0.0518 - val_accuracy: 0.9870\n",
      "Epoch 9/20\n",
      "981/981 [==============================] - 92s 94ms/step - loss: 0.1680 - accuracy: 0.9537 - val_loss: 0.0407 - val_accuracy: 0.9892\n",
      "Epoch 10/20\n",
      "981/981 [==============================] - 92s 94ms/step - loss: 0.1419 - accuracy: 0.9605 - val_loss: 0.0449 - val_accuracy: 0.9897\n",
      "Epoch 11/20\n",
      "981/981 [==============================] - 90s 92ms/step - loss: 0.1534 - accuracy: 0.9614 - val_loss: 0.0383 - val_accuracy: 0.9893\n",
      "Epoch 12/20\n",
      "981/981 [==============================] - 91s 93ms/step - loss: 0.1345 - accuracy: 0.9650 - val_loss: 0.0514 - val_accuracy: 0.9893\n",
      "Epoch 13/20\n",
      "981/981 [==============================] - 93s 95ms/step - loss: 0.1590 - accuracy: 0.9620 - val_loss: 0.0759 - val_accuracy: 0.9841\n",
      "Epoch 14/20\n",
      "981/981 [==============================] - 92s 94ms/step - loss: 0.1397 - accuracy: 0.9648 - val_loss: 0.0325 - val_accuracy: 0.9929\n",
      "Epoch 15/20\n",
      "981/981 [==============================] - 103s 105ms/step - loss: 0.1297 - accuracy: 0.9691 - val_loss: 0.0441 - val_accuracy: 0.9884\n",
      "Epoch 16/20\n",
      "981/981 [==============================] - 100s 102ms/step - loss: 0.1448 - accuracy: 0.9675 - val_loss: 0.0421 - val_accuracy: 0.9908\n",
      "Epoch 17/20\n",
      "981/981 [==============================] - 103s 105ms/step - loss: 0.1363 - accuracy: 0.9695 - val_loss: 0.0401 - val_accuracy: 0.9921\n",
      "Epoch 18/20\n",
      "981/981 [==============================] - 97s 98ms/step - loss: 0.1304 - accuracy: 0.9701 - val_loss: 0.0368 - val_accuracy: 0.9930\n",
      "Epoch 19/20\n",
      "981/981 [==============================] - 84s 86ms/step - loss: 0.1566 - accuracy: 0.9677 - val_loss: 0.0455 - val_accuracy: 0.9922\n",
      "Epoch 20/20\n",
      "981/981 [==============================] - 96s 98ms/step - loss: 0.1234 - accuracy: 0.9730 - val_loss: 0.0455 - val_accuracy: 0.9885\n"
     ]
    }
   ],
   "source": [
    "# Fit the model\n",
    "epochs = 20 \n",
    "history3 = model3.fit(X_train, y_train, batch_size=32, epochs=epochs, validation_data=(X_test, y_test))"
   ]
  },
  {
   "cell_type": "markdown",
   "id": "b20452b1",
   "metadata": {},
   "source": [
    "# Accuracy Graph"
   ]
  },
  {
   "cell_type": "code",
   "execution_count": 41,
   "id": "b781b093",
   "metadata": {},
   "outputs": [
    {
     "data": {
      "image/png": "[encoded data removed]",
      "text/plain": [
       "<Figure size 432x288 with 1 Axes>"
      ]
     },
     "metadata": {
      "needs_background": "light"
     },
     "output_type": "display_data"
    }
   ],
   "source": [
    "plt.figure(0)\n",
    "plt.plot(history3.history['accuracy'], label = 'training accuracy')\n",
    "plt.plot(history3.history['val_accuracy'], label = 'val accuracy')\n",
    "plt.title('accuracy')\n",
    "plt.xlabel('epochs')\n",
    "plt.ylabel('accuracy')\n",
    "plt.legend()\n",
    "plt.show()"
   ]
  },
  {
   "cell_type": "markdown",
   "id": "4fd9d156",
   "metadata": {},
   "source": [
    "# Loss Graph"
   ]
  },
  {
   "cell_type": "code",
   "execution_count": 43,
   "id": "88a5d220",
   "metadata": {
    "scrolled": false
   },
   "outputs": [
    {
     "data": {
      "image/png": "[encoded data removed]",
      "text/plain": [
       "<Figure size 432x288 with 1 Axes>"
      ]
     },
     "metadata": {
      "needs_background": "light"
     },
     "output_type": "display_data"
    }
   ],
   "source": [
    "plt.plot(history3.history['loss'], label = 'training loss')\n",
    "plt.plot(history3.history['val_loss'], label = 'val loss')\n",
    "plt.title('Loss')\n",
    "plt.xlabel('epochs')\n",
    "plt.ylabel('loss')\n",
    "plt.legend()\n",
    "plt.show()"
   ]
  },
  {
   "cell_type": "markdown",
   "id": "a3f7e02e",
   "metadata": {},
   "source": [
    "# Lets do testing on test data"
   ]
  },
  {
   "cell_type": "code",
   "execution_count": 18,
   "id": "a64106db",
   "metadata": {},
   "outputs": [],
   "source": [
    "def testing(testcsv):\n",
    "    y_test = pd.read_csv(testcsv)\n",
    "    label = y_test[\"ClassId\"].values\n",
    "    imgs = y_test[\"Path\"].values\n",
    "    data=[]\n",
    "    for img in imgs:\n",
    "        image = Image.open(img)\n",
    "        image = image.resize((30,30))\n",
    "        data.append(np.array(image))\n",
    "    X_test = np.array(data)\n",
    "    return X_test,label"
   ]
  },
  {
   "cell_type": "code",
   "execution_count": 20,
   "id": "02d6cabf",
   "metadata": {
    "scrolled": false
   },
   "outputs": [],
   "source": [
    "X_test,label = testing('Test.csv')"
   ]
  },
  {
   "cell_type": "code",
   "execution_count": 22,
   "id": "ac08f89f",
   "metadata": {},
   "outputs": [
    {
     "name": "stdout",
     "output_type": "stream",
     "text": [
      "WARNING:tensorflow:From C:\\Users\\INSPIR~1\\AppData\\Local\\Temp/ipykernel_7980/1603470106.py:1: Sequential.predict_classes (from tensorflow.python.keras.engine.sequential) is deprecated and will be removed after 2021-01-01.\n",
      "Instructions for updating:\n",
      "Please use instead:* `np.argmax(model.predict(x), axis=-1)`,   if your model does multi-class classification   (e.g. if it uses a `softmax` last-layer activation).* `(model.predict(x) > 0.5).astype(\"int32\")`,   if your model does binary classification   (e.g. if it uses a `sigmoid` last-layer activation).\n"
     ]
    },
    {
     "data": {
      "text/plain": [
       "array([16,  1, 38, ..., 25,  7, 10], dtype=int64)"
      ]
     },
     "execution_count": 22,
     "metadata": {},
     "output_type": "execute_result"
    }
   ],
   "source": [
    "Y_pred = model3.predict_classes(X_test)\n",
    "Y_pred"
   ]
  },
  {
   "cell_type": "markdown",
   "id": "f8181416",
   "metadata": {},
   "source": [
    "# Accuracy with the test data"
   ]
  },
  {
   "cell_type": "code",
   "execution_count": 23,
   "id": "19ce0b3c",
   "metadata": {
    "scrolled": true
   },
   "outputs": [
    {
     "name": "stdout",
     "output_type": "stream",
     "text": [
      "0.96215360253365\n"
     ]
    }
   ],
   "source": [
    "from sklearn.metrics import accuracy_score\n",
    "print(accuracy_score(label, Y_pred))"
   ]
  },
  {
   "cell_type": "markdown",
   "id": "45cc641c",
   "metadata": {},
   "source": [
    "# Save the model"
   ]
  },
  {
   "cell_type": "code",
   "execution_count": 25,
   "id": "5ba4e984",
   "metadata": {},
   "outputs": [],
   "source": [
    "model3.save(\"./training/TSR.h5\")"
   ]
  },
  {
   "cell_type": "markdown",
   "id": "d40f302e",
   "metadata": {},
   "source": [
    "# Load the model"
   ]
  },
  {
   "cell_type": "code",
   "execution_count": 26,
   "id": "b13938a9",
   "metadata": {},
   "outputs": [],
   "source": [
    "import os\n",
    "from keras.models import load_model\n",
    "model = load_model('./training/TSR.h5')"
   ]
  },
  {
   "cell_type": "code",
   "execution_count": 27,
   "id": "db7d8b64",
   "metadata": {},
   "outputs": [],
   "source": [
    "classes = { 0:'Speed limit (20km/h)',\n",
    "            1:'Speed limit (30km/h)',\n",
    "            2:'Speed limit (50km/h)',\n",
    "            3:'Speed limit (60km/h)',\n",
    "            4:'Speed limit (70km/h)',\n",
    "            5:'Speed limit (80km/h)',\n",
    "            6:'End of speed limit (80km/h)',\n",
    "            7:'Speed limit (100km/h)',\n",
    "            8:'Speed limit (120km/h)',\n",
    "            9:'No passing',\n",
    "            10:'No passing veh over 3.5 tons',\n",
    "            11:'Right-of-way at intersection',\n",
    "            12:'Priority road',\n",
    "            13:'Yield',\n",
    "            14:'Stop',\n",
    "            15:'No vehicles',\n",
    "            16:'Vehicle > 3.5 tons prohibited',\n",
    "            17:'No entry',\n",
    "            18:'General caution',\n",
    "            19:'Dangerous curve left',\n",
    "            20:'Dangerous curve right',\n",
    "            21:'Double curve',\n",
    "            22:'Bumpy road',\n",
    "            23:'Slippery road',\n",
    "            24:'Road narrows on the right',\n",
    "            25:'Road work',\n",
    "            26:'Traffic signals',\n",
    "            27:'Pedestrians',\n",
    "            28:'Children crossing',\n",
    "            29:'Bicycles crossing',\n",
    "            30:'Beware of ice/snow',\n",
    "            31:'Wild animals crossing',\n",
    "            32:'End speed + passing limits',\n",
    "            33:'Turn right ahead',\n",
    "            34:'Turn left ahead',\n",
    "            35:'Ahead only',\n",
    "            36:'Go straight or right',\n",
    "            37:'Go straight or left',\n",
    "            38:'Keep right',\n",
    "            39:'Keep left',\n",
    "            40:'Roundabout mandatory',\n",
    "            41:'End of no passing',\n",
    "            42:'End no passing vehicle > 3.5 tons' }"
   ]
  },
  {
   "cell_type": "markdown",
   "id": "76c014ac",
   "metadata": {},
   "source": [
    "# Text to speech converter"
   ]
  },
  {
   "cell_type": "code",
   "execution_count": 28,
   "id": "0c1e487d",
   "metadata": {},
   "outputs": [
    {
     "name": "stdout",
     "output_type": "stream",
     "text": [
      "Requirement already satisfied: pyttsx3 in c:\\users\\inspiron-3000\\.conda\\envs\\tf\\lib\\site-packages (2.90)\n",
      "Requirement already satisfied: pywin32 in c:\\users\\inspiron-3000\\.conda\\envs\\tf\\lib\\site-packages (from pyttsx3) (228)\n",
      "Requirement already satisfied: comtypes in c:\\users\\inspiron-3000\\.conda\\envs\\tf\\lib\\site-packages (from pyttsx3) (1.1.10)\n",
      "Requirement already satisfied: pypiwin32 in c:\\users\\inspiron-3000\\.conda\\envs\\tf\\lib\\site-packages (from pyttsx3) (223)\n"
     ]
    }
   ],
   "source": [
    "!pip install pyttsx3\n",
    "import pyttsx3\n",
    "text_speech = pyttsx3.init()"
   ]
  },
  {
   "cell_type": "code",
   "execution_count": 29,
   "id": "a7f17b52",
   "metadata": {},
   "outputs": [],
   "source": [
    "from PIL import Image\n",
    "import numpy as np\n",
    "import matplotlib.pyplot as plt\n",
    "\n",
    "def test_on_img(img):\n",
    "    data=[]\n",
    "    image = Image.open(img)\n",
    "    image = image.resize((30,30))\n",
    "    data.append(np.array(image))\n",
    "    X_test = np.array(data)\n",
    "    y_pred = model.predict_classes(X_test)\n",
    "    return image,y_pred"
   ]
  },
  {
   "cell_type": "code",
   "execution_count": 45,
   "id": "2530d5cb",
   "metadata": {},
   "outputs": [
    {
     "name": "stdout",
     "output_type": "stream",
     "text": [
      "Predicted traffic sign is  :  Keep right\n"
     ]
    },
    {
     "data": {
      "image/png": "[encoded data removed]",
      "text/plain": [
       "<Figure size 432x288 with 1 Axes>"
      ]
     },
     "metadata": {
      "needs_background": "light"
     },
     "output_type": "display_data"
    }
   ],
   "source": [
    "plot,prediction = test_on_img(r\"C:\\Users\\Inspiron-3000\\Traffic sign classification\\Test\\00514.png\")\n",
    "s = [str(i) for i in  prediction]\n",
    "a = int(\"\".join(s))\n",
    "print(\"Predicted traffic sign is  : \", classes[a])\n",
    "\n",
    "plt.imshow(plot)\n",
    "plt.show()\n",
    "\n",
    "text_speech.say(classes[a])\n",
    "text_speech.runAndWait()"
   ]
  },
  {
   "cell_type": "code",
   "execution_count": null,
   "id": "b4a12d51",
   "metadata": {},
   "outputs": [],
   "source": []
  }
 ],
 "metadata": {
  "kernelspec": {
   "display_name": "Python 3 (ipykernel)",
   "language": "python",
   "name": "python3"
  },
  "language_info": {
   "codemirror_mode": {
    "name": "ipython",
    "version": 3
   },
   "file_extension": ".py",
   "mimetype": "text/x-python",
   "name": "python",
   "nbconvert_exporter": "python",
   "pygments_lexer": "ipython3",
   "version": "3.8.11"
  }
 },
 "nbformat": 4,
 "nbformat_minor": 5
}
